{
 "cells": [
  {
   "cell_type": "code",
   "execution_count": 34,
   "metadata": {
    "colab": {
     "base_uri": "https://localhost:8080/"
    },
    "id": "2xcnKRFcTpF1",
    "outputId": "702139f2-4794-48fd-fc90-18bf2f22ac95",
    "ExecuteTime": {
     "end_time": "2024-10-15T09:09:09.344508500Z",
     "start_time": "2024-10-15T09:09:08.580277600Z"
    }
   },
   "outputs": [
    {
     "name": "stderr",
     "output_type": "stream",
     "text": [
      "[nltk_data] Downloading package stopwords to\n",
      "[nltk_data]     C:\\Users\\TheHs\\AppData\\Roaming\\nltk_data...\n",
      "[nltk_data]   Package stopwords is already up-to-date!\n"
     ]
    }
   ],
   "source": [
    "import regex as re\n",
    "import nltk\n",
    "from nltk.corpus import stopwords\n",
    "import math\n",
    "nltk.download('stopwords')\n",
    "\n",
    "\n",
    "\n",
    "sentences = list()\n",
    "sentence = list()\n",
    "with open('annotations_hsy2.tsv') as file:\n",
    "  for line in file:\n",
    "      if line != \"\\n\":\n",
    "        sentence.append(line.split('\\t')[1])\n",
    "      if line == \"\\n\" and sentence:\n",
    "        sentences.append(sentence)\n",
    "        sentence = list()"
   ]
  },
  {
   "cell_type": "code",
   "execution_count": 35,
   "outputs": [
    {
     "name": "stdout",
     "output_type": "stream",
     "text": [
      "['From:', 'decay@cbnewsj.cb.att.com', 'dean.', 'kaflowitz)', 'Subject:', 'Re:', 'about', 'the', 'bible', 'quiz', 'answers', 'Organization:', 'AT&', 'T', 'Distribution:', 'na', 'Lines:', '18', 'In', 'article', 'healta.153.735242337@saturn.wwc.edu', 'healta@saturn.wwc.edu', 'Tammy', 'R', 'Healy)', 'writes:', '12)', 'The', '2', 'cheribums', 'are', 'on', 'the', 'Ark', 'of', 'the', 'Covenant.']\n"
     ]
    }
   ],
   "source": [
    "print(sentences[0])"
   ],
   "metadata": {
    "collapsed": false,
    "ExecuteTime": {
     "end_time": "2024-10-15T09:09:14.197607500Z",
     "start_time": "2024-10-15T09:09:14.193639700Z"
    }
   }
  },
  {
   "cell_type": "code",
   "execution_count": 36,
   "metadata": {
    "id": "5R0p0d0kWXoz",
    "ExecuteTime": {
     "end_time": "2024-10-15T09:09:23.543454700Z",
     "start_time": "2024-10-15T09:09:21.438868200Z"
    }
   },
   "outputs": [],
   "source": [
    "import re\n",
    "\n",
    "stop_words = set(stopwords.words('english'))\n",
    "clear_data = []\n",
    "\n",
    "def clean_sentence(sentence):\n",
    "    cleaned = []\n",
    "    for lemma in sentence:\n",
    "        cleaned_token = re.sub(r\"(?<!\\w)\\.(?!\\w)|[^\\w\\s@._-]+\", \"\", lemma.lower())\n",
    "        if cleaned_token and cleaned_token not in stop_words:\n",
    "            cleaned.append(cleaned_token)\n",
    "    return cleaned\n",
    "\n",
    "for sentence in sentences:\n",
    "    clear_data.append(clean_sentence(sentence))"
   ]
  },
  {
   "cell_type": "code",
   "execution_count": 41,
   "metadata": {
    "id": "a31Sv8S4Wivp",
    "ExecuteTime": {
     "end_time": "2024-10-15T09:10:27.075758600Z",
     "start_time": "2024-10-15T09:10:25.314427200Z"
    }
   },
   "outputs": [],
   "source": [
    "trigrams = list()\n",
    "for sentence in clear_data:\n",
    "    for i in range(len(sentence) - 2):\n",
    "        trigrams.append(sentence[i:i+3])\n",
    "        \n",
    "trigram_frequency = dict()\n",
    "for trigram in trigrams:\n",
    "    if tuple(trigram) not in trigram_frequency:\n",
    "        # If not existed, create it\n",
    "        trigram_frequency[tuple(trigram)] = 1\n",
    "    else:\n",
    "        # If existed, add it.\n",
    "        trigram_frequency[tuple(trigram)] += 1\n"
   ]
  },
  {
   "cell_type": "code",
   "execution_count": 42,
   "metadata": {
    "id": "HbEGbSDWYwQk",
    "ExecuteTime": {
     "end_time": "2024-10-15T09:10:31.498622300Z",
     "start_time": "2024-10-15T09:10:31.496108700Z"
    }
   },
   "outputs": [],
   "source": [
    "def mi_score(trigram_frequencies, word_counts, total_words):\n",
    "    # Initialize a dictionary to store the MI scores for each trigram\n",
    "    miscores = {}\n",
    "    \n",
    "    # Iterate over each trigram and its frequency in the trigram_frequencies dictionary\n",
    "    for trigram, count in trigram_frequencies.items():\n",
    "        # Calculate the denominator: product of the counts of individual words in the trigram\n",
    "        denominator = word_counts[trigram[0]] * word_counts[trigram[1]] * word_counts[trigram[2]]\n",
    "        \n",
    "        # Calculate the mutual information (MI) using the provided formula\n",
    "        mi = math.log2((total_words ** 2) * count / denominator)\n",
    "        \n",
    "        # Store the calculated MI score for the current trigram\n",
    "        miscores[trigram] = mi\n",
    "    \n",
    "    # Return the dictionary containing the MI scores for all trigrams\n",
    "    return miscores"
   ]
  },
  {
   "cell_type": "code",
   "execution_count": 43,
   "metadata": {
    "id": "Hj417jaPYxHK",
    "ExecuteTime": {
     "end_time": "2024-10-15T09:10:34.329633500Z",
     "start_time": "2024-10-15T09:10:33.805545700Z"
    }
   },
   "outputs": [],
   "source": [
    "from collections import Counter\n",
    "\n",
    "words_count = Counter()\n",
    "\n",
    "for sentence in clear_data:\n",
    "    words_count.update(sentence)\n",
    "\n",
    "total_words = sum(words_count.values())\n",
    "\n",
    "mi_score = mi_score(trigram_frequency, words_count, total_words)"
   ]
  },
  {
   "cell_type": "code",
   "execution_count": 54,
   "metadata": {
    "colab": {
     "base_uri": "https://localhost:8080/"
    },
    "id": "cF4BYdJmZA5H",
    "outputId": "601146c4-56f4-466b-bcbf-554bab584801",
    "ExecuteTime": {
     "end_time": "2024-10-15T11:03:54.492407400Z",
     "start_time": "2024-10-15T11:03:54.305374800Z"
    }
   },
   "outputs": [
    {
     "data": {
      "text/plain": "[(('al-quran', 'sahih', 'hadiths.'), 40.59144147594904),\n (('dualism', 'non-solution', 'dennett'), 40.59144147594904),\n (('ss-1', 'derivitives', '60-70'), 40.59144147594904),\n (('1r8tpi', '4pu@dr-pepper.east.sun.com', 'geoff@east.sun.com'),\n  40.59144147594904),\n (('scoffers', 'mockers', 'blasphemers.'), 40.59144147594904),\n (('principia', 'discordia', 'malaclypse'), 40.59144147594904),\n (('devotive', 'caremony', 'remonstrate'), 40.59144147594904),\n (('lem', 'bulgakov', 'zamyatin'), 40.59144147594904),\n (('1quc6u', '8qu@cc.tut.fi', 'a137490@lehtori.cc.tut.fi'), 40.59144147594904),\n (('8qu@cc.tut.fi', 'a137490@lehtori.cc.tut.fi', 'aario'), 40.59144147594904),\n (('a137490@lehtori.cc.tut.fi', 'aario', 'sami'), 40.59144147594904),\n (('3nl', '071 226 7251', '071 272 1266'), 40.59144147594904),\n (('gottes', 'erste', 'diener.'), 40.59144147594904),\n (('torkel@sics.se', 'torkel', 'franzen'), 40.59144147594904),\n (('stoesser@ira.uka.de', 'achim', 'stoesser'), 40.59144147594904),\n (('achim', 'stoesser', 'bosullvn@unix1.tcd.ie'), 40.59144147594904),\n (('markp.', '735580401', 'avignon'), 40.59144147594904),\n (('1r1ko8',\n   '6b1@horus.ap.mchp.sni.de',\n   'sandvik-200493232227@sandvik-kent.apple.com'),\n  40.59144147594904),\n (('1993apr26.070405.3615@doug.cae.wisc.edu',\n   'kahraman@hprisc-30.cae.wisc.edu',\n   'gokalp'),\n  40.59144147594904),\n (('kahraman@hprisc-30.cae.wisc.edu', 'gokalp', 'kahraman'),\n  40.59144147594904),\n (('self-existent', 'self-standing', 'self-living'), 40.59144147594904),\n (('drop-shadowed', 'pattern-filled', 'round-cornered'), 40.59144147594904),\n (('94804', '510 236-4000', '510 236-0388'), 40.59144147594904),\n (('staphylococcus', 'aureus', 'ribonuclease.'), 40.59144147594904),\n (('exjob-17@math.chalmers.se', 'daruwala@slinky.ims', 'raoul-sam'),\n  40.59144147594904),\n (('daruwala@slinky.ims', 'raoul-sam', 'daruwala'), 40.59144147594904),\n (('tomasz.piatek@comp.vuw.ac.nz', 'tomasz', 'piatek'), 40.59144147594904),\n (('malek@pi.titech.ac.jp', 'zidouri', 'abdelmalek'), 40.59144147594904),\n (('enuxva.', 'eas.', 'asu.'), 40.59144147594904),\n (('hyperspheres', 'hypertetrahedra', 'hyperplanes'), 40.59144147594904)]"
     },
     "execution_count": 54,
     "metadata": {},
     "output_type": "execute_result"
    }
   ],
   "source": [
    "sorted(mi_score.items(), key=lambda x: x[1], reverse=True)[:30]"
   ]
  },
  {
   "cell_type": "code",
   "execution_count": 37,
   "metadata": {
    "colab": {
     "base_uri": "https://localhost:8080/"
    },
    "id": "gfwXk7jFZxED",
    "outputId": "23bd3177-38db-45ec-db01-90caae255ba1",
    "ExecuteTime": {
     "end_time": "2024-10-15T09:09:43.073128500Z",
     "start_time": "2024-10-15T09:09:36.906730100Z"
    }
   },
   "outputs": [
    {
     "name": "stderr",
     "output_type": "stream",
     "text": [
      "[nltk_data] Downloading package punkt to\n",
      "[nltk_data]     C:\\Users\\TheHs\\AppData\\Roaming\\nltk_data...\n",
      "[nltk_data]   Package punkt is already up-to-date!\n"
     ]
    },
    {
     "name": "stdout",
     "output_type": "stream",
     "text": [
      "[('--fax', '061 200 4019', '---umist'), ('-4370', '612-935-1171', 'm21lmax'), ('-address', 'cbe', 'artt'), ('00 5', 'uw-', 'cyd'), ('0004988 261.3916', '194.3250 15.9069', '9957'), ('0005169 259.6342', '61.8074 15.9067', '3799'), ('0008512 260.9747', '152.1416 15.9073', '2913'), ('0011265 284.7181', '109.3644 15.9161', '6537'), ('007gjf3@witsvma.wits.ac.za', 'nando', '007bww3@witsvma.wits.ac.za'), ('00kz@a', 'gshfx', '9lv'), ('00p_15s-r', 'fd1', '2v@inumem9w'), ('00z', 'd4l', 'jm.@-@'), ('01.09.92', 'fiji', 'fidji'), ('01752 508-481', '-3700', 'photopress'), ('0180@unbvm1.csd.unb.ca', 'c70a000', 'c70a@unb.ca'), ('0182', 'cedilla', '0184'), ('01867-3238', '617-942-2000', '2948'), ('01890', '617 729-3659', 'jwp@world.std.com'), ('01@5b', '14l-', '4pab'), ('01@z', '_6nu-', '0r@'), ('01vl2', '7kh', '1-n'), ('02xs5', '20ez9na0', 'nrl'), ('03cw.', 'd203wngw', 'ixt'), ('0442-230000', 'x3361', '3591'), ('04e-', 'w_s-pwml1', 'm9jtu'), ('04x1', '4-tu24', 'i8olk_'), ('06-', 'jks', 'crk'), ('061 200 4019', '---umist', 'university-----------'), ('061 200 4809', '--fax', '061 200 4019'), ('06n.', 'edo6', 'mq59dg30')]\n"
     ]
    }
   ],
   "source": [
    "import nltk\n",
    "from nltk.collocations import TrigramAssocMeasures, TrigramCollocationFinder\n",
    "\n",
    "nltk.download('punkt')\n",
    "\n",
    "flat_text = [word for sentence in clear_data for word in sentence]\n",
    "\n",
    "finder_thr = TrigramCollocationFinder.from_words(flat_text)\n",
    "\n",
    "trigram_measures = TrigramAssocMeasures()\n",
    "top_30_trigrams = finder_thr.nbest(trigram_measures.pmi, 30)\n",
    "\n",
    "print(top_30_trigrams)"
   ]
  }
 ],
 "metadata": {
  "colab": {
   "provenance": []
  },
  "kernelspec": {
   "name": "python3",
   "language": "python",
   "display_name": "Python 3 (ipykernel)"
  },
  "language_info": {
   "name": "python"
  }
 },
 "nbformat": 4,
 "nbformat_minor": 0
}
